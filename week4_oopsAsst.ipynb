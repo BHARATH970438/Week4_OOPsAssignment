{
 "cells": [
  {
   "attachments": {},
   "cell_type": "markdown",
   "metadata": {},
   "source": [
    "Q1. Explain Class and Object with respect to Object-Oriented Programming. Give a suitable example."
   ]
  },
  {
   "attachments": {},
   "cell_type": "markdown",
   "metadata": {},
   "source": [
    "Class : Class is template that defines the properties and behaviour that objects of that class should have.It represents real world entities such as person,car,bank account,etc."
   ]
  },
  {
   "attachments": {},
   "cell_type": "markdown",
   "metadata": {},
   "source": [
    "Object : It is aspecific instance of class.It is runtime entity that has data and methods are defined by its class. Mutiple objects can be created from the same class. "
   ]
  },
  {
   "attachments": {},
   "cell_type": "markdown",
   "metadata": {},
   "source": [
    "Example: Class : Car , A car can have properties like model, color, and fuel type etc."
   ]
  },
  {
   "cell_type": "code",
   "execution_count": 12,
   "metadata": {},
   "outputs": [
    {
     "name": "stdout",
     "output_type": "stream",
     "text": [
      "123\n",
      "Maruthi\n",
      "Blue\n",
      "Petrol\n"
     ]
    }
   ],
   "source": [
    "class Car:\n",
    "    def __init__(self,brand,model,colour,fuel_type):\n",
    "        self.brand = brand\n",
    "        self.model = model\n",
    "        self.colour = colour\n",
    "        self.fuel_type = fuel_type\n",
    "    def car_mod(self):\n",
    "        print(self.model)\n",
    "    def car_brand(self):\n",
    "        print(self.brand)\n",
    "    def car_colour(self):\n",
    "        print(self.colour)\n",
    "    def car_fuel_type(self):\n",
    "        print(self.fuel_type)\n",
    "\n",
    "car = Car('Maruthi',123,'Blue','Petrol')\n",
    "\n",
    "car.car_mod()\n",
    "car.car_brand()\n",
    "car.car_colour()\n",
    "car.car_fuel_type()"
   ]
  },
  {
   "attachments": {},
   "cell_type": "markdown",
   "metadata": {},
   "source": [
    "Q2. Name the four pillars of OOPs."
   ]
  },
  {
   "attachments": {},
   "cell_type": "markdown",
   "metadata": {},
   "source": [
    "Encapsulation : It is a priciple of building data methods that operate data within a single unit called class. It hide internal details of an object "
   ]
  },
  {
   "attachments": {},
   "cell_type": "markdown",
   "metadata": {},
   "source": [
    "Inheritance : It allows objects to inherit methods and attributes from other Class called Parent class. It creates hierarchical relationship b\\w classes, it promotes code reuse."
   ]
  },
  {
   "attachments": {},
   "cell_type": "markdown",
   "metadata": {},
   "source": [
    "Polymorphism : It refers to the ability of objects of different classes to respond to the same method or function call in different ways. It allows objects to be treated as instances of their own class or as instances of their parent class, facilitating code flexibility and extensibility."
   ]
  },
  {
   "attachments": {},
   "cell_type": "markdown",
   "metadata": {},
   "source": [
    "Abstraction : It is used to simplifying complex systems by representing essential features and hinding unnessary details.It focuses on creating abstract classes or interfaces that define the structure and behavior of objects, without specifying their implementation."
   ]
  },
  {
   "attachments": {},
   "cell_type": "markdown",
   "metadata": {},
   "source": [
    "Q3. Explain why the __init__() function is used. Give a suitable example."
   ]
  },
  {
   "attachments": {},
   "cell_type": "markdown",
   "metadata": {},
   "source": [
    "The '__init__()' function is a special method in Python classes that is automatically called when an object of that class is created. It stands for \"initialize\" and is used to initialize the attributes or properties of an object. It is also known as a constructor."
   ]
  },
  {
   "cell_type": "code",
   "execution_count": 13,
   "metadata": {},
   "outputs": [
    {
     "name": "stdout",
     "output_type": "stream",
     "text": [
      "Brand: Toyota\n",
      "Model: Camry\n",
      "Color: Blue\n"
     ]
    }
   ],
   "source": [
    "class Car:\n",
    "    def __init__(self, brand, model, color):\n",
    "        self.brand = brand\n",
    "        self.model = model\n",
    "        self.color = color\n",
    "\n",
    "    def display_info(self):\n",
    "        print(f\"Brand: {self.brand}\")\n",
    "        print(f\"Model: {self.model}\")\n",
    "        print(f\"Color: {self.color}\")\n",
    "\n",
    "my_car = Car(\"Toyota\", \"Camry\", \"Blue\")\n",
    "\n",
    "my_car.display_info()"
   ]
  },
  {
   "attachments": {},
   "cell_type": "markdown",
   "metadata": {},
   "source": [
    "Q4. Why self is used in OOPs?"
   ]
  },
  {
   "attachments": {},
   "cell_type": "markdown",
   "metadata": {},
   "source": [
    " The \"self\" keyword is used to refer to the current instance of a class. It allows access to the attributes and methods of that specific instance within the class."
   ]
  },
  {
   "attachments": {},
   "cell_type": "markdown",
   "metadata": {},
   "source": [
    "By using \"self,\" we can differentiate between the instance variables and local variables within a class. It ensures that the correct instance's attributes are accessed and modified, avoiding confusion and potential errors. \"self\" is a fundamental concept in OOP that enables proper object-oriented design and helps maintain the integrity of object instances."
   ]
  },
  {
   "attachments": {},
   "cell_type": "markdown",
   "metadata": {},
   "source": [
    "Q5. What is inheritance? Give an example for each type of inheritance."
   ]
  },
  {
   "attachments": {},
   "cell_type": "markdown",
   "metadata": {},
   "source": [
    "Inheritance : It allows objects to inherit methods and attributes from other Class called Parent class. It creates hierarchical relationship b\\w classes, it promotes code reuse."
   ]
  },
  {
   "cell_type": "code",
   "execution_count": 14,
   "metadata": {},
   "outputs": [
    {
     "name": "stdout",
     "output_type": "stream",
     "text": [
      "Section : B\n"
     ]
    }
   ],
   "source": [
    "class Class:\n",
    "    def __init__(self,section,strength):\n",
    "        self.section = section\n",
    "        self.strength = strength\n",
    "    def get_section(self):\n",
    "        print(f'Section : {self.section}')\n",
    "    def get_strength(self):\n",
    "        print(self.strength)\n",
    "\n",
    "class stud(Class):\n",
    "    def __init__(self,name,rollno,section):\n",
    "        self.name = name\n",
    "        self.rollno = rollno\n",
    "        self.section = section\n",
    "    def get_name(self):\n",
    "        print(self.name)\n",
    "    def get_rollno(self):\n",
    "        print(self.rollno)\n",
    "\n",
    "C = Class('A',50)\n",
    "s = stud('Bharath',24,'B')\n",
    "\n",
    "s.get_section()"
   ]
  }
 ],
 "metadata": {
  "kernelspec": {
   "display_name": "Python 3",
   "language": "python",
   "name": "python3"
  },
  "language_info": {
   "codemirror_mode": {
    "name": "ipython",
    "version": 3
   },
   "file_extension": ".py",
   "mimetype": "text/x-python",
   "name": "python",
   "nbconvert_exporter": "python",
   "pygments_lexer": "ipython3",
   "version": "3.11.0"
  },
  "orig_nbformat": 4
 },
 "nbformat": 4,
 "nbformat_minor": 2
}
